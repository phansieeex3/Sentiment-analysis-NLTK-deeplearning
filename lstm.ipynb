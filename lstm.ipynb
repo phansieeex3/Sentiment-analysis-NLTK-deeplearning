{
 "cells": [
  {
   "cell_type": "markdown",
   "metadata": {
    "_cell_guid": "5b2497b3-60ee-7cd0-0625-f103214c0ed4"
   },
   "source": [
    "**Created by Peter Nagy February 2017 [Github][1]**\n",
    "\n",
    "**Sentiment Analysis:** the process of computationally identifying and categorizing opinions expressed in a piece of text, especially in order to determine whether the writer's attitude towards a particular topic, product, etc. is positive, negative, or neutral.\n",
    "\n",
    "\n",
    "  [1]: https://github.com/nagypeterjob"
   ]
  },
  {
   "cell_type": "markdown",
   "metadata": {
    "_cell_guid": "39c44f0e-d62c-7e11-a542-4fcd58e21442"
   },
   "source": [
    "As an improvement to my previous [Kernel][1], here I am trying to achieve better results with a Recurrent Neural Network.\n",
    "\n",
    "  [1]: https://www.kaggle.com/ngyptr/d/crowdflower/first-gop-debate-twitter-sentiment/python-nltk-sentiment-analysis"
   ]
  },
  {
   "cell_type": "code",
   "execution_count": 10,
   "metadata": {
    "_cell_guid": "6c53202d-5c34-4859-e7e9-8ef5c7068287"
   },
   "outputs": [],
   "source": [
    "# This Python 3 environment comes with many helpful analytics libraries installed\n",
    "# It is defined by the kaggle/python docker image: https://github.com/kaggle/docker-python\n",
    "# For example, here's several helpful packages to load in \n",
    "\n",
    "import numpy as np # linear algebra\n",
    "import pandas as pd # data processing, CSV file I/O (e.g. pd.read_csv)\n",
    "\n",
    "from sklearn.feature_extraction.text import CountVectorizer\n",
    "from keras.preprocessing.text import Tokenizer\n",
    "from keras.preprocessing.sequence import pad_sequences\n",
    "from keras.models import Sequential\n",
    "from keras.layers import Dense, Embedding, LSTM\n",
    "from sklearn.model_selection import train_test_split\n",
    "from keras.utils.np_utils import to_categorical\n",
    "import re\n",
    "\n",
    "# Input data files are available in the \"../input/\" directory.\n",
    "# For example, running this (by clicking run or pressing Shift+Enter) will list the files in the input directory"
   ]
  },
  {
   "cell_type": "markdown",
   "metadata": {
    "_cell_guid": "2bc2702e-d6f4-df5f-b80e-50ab23a6d29e"
   },
   "source": [
    "Only keeping the necessary columns."
   ]
  },
  {
   "cell_type": "code",
   "execution_count": 13,
   "metadata": {
    "_cell_guid": "89c8c923-c0bf-7b35-9ab8-e63f00b74e5a"
   },
   "outputs": [],
   "source": [
    "data = pd.read_csv('./Sentiment.csv')\n",
    "# Keeping only the neccessary columns\n",
    "data = data[['text','sentiment']]"
   ]
  },
  {
   "cell_type": "markdown",
   "metadata": {
    "_cell_guid": "4c0ec63b-cdf8-8e29-812b-0fbbfcea2929"
   },
   "source": [
    "Next, I am dropping the 'Neutral' sentiments as my goal was to only differentiate positive and negative tweets. After that, I am filtering the tweets so only valid texts and words remain.  Then, I define the number of max features as 2000 and use Tokenizer to vectorize and convert text into Sequences so the Network can deal with it as input."
   ]
  },
  {
   "cell_type": "code",
   "execution_count": 14,
   "metadata": {
    "_cell_guid": "43632d2d-6160-12ce-48b0-e5eb1c207076"
   },
   "outputs": [
    {
     "name": "stdout",
     "output_type": "stream",
     "text": [
      "4472\n",
      "16986\n"
     ]
    },
    {
     "name": "stderr",
     "output_type": "stream",
     "text": [
      "C:\\Users\\Phansa Chaonpoj\\Anaconda3\\lib\\site-packages\\keras\\preprocessing\\text.py:172: UserWarning: The `nb_words` argument in `Tokenizer` has been renamed `num_words`.\n",
      "  warnings.warn('The `nb_words` argument in `Tokenizer` '\n"
     ]
    }
   ],
   "source": [
    "data = data[data.sentiment != \"Neutral\"]\n",
    "data['text'] = data['text'].apply(lambda x: x.lower())\n",
    "data['text'] = data['text'].apply((lambda x: re.sub('[^a-zA-z0-9\\s]','',x)))\n",
    "\n",
    "print(data[ data['sentiment'] == 'Positive'].size)\n",
    "print(data[ data['sentiment'] == 'Negative'].size)\n",
    "\n",
    "for idx,row in data.iterrows():\n",
    "    row[0] = row[0].replace('rt',' ')\n",
    "    \n",
    "max_fatures = 2000\n",
    "tokenizer = Tokenizer(nb_words=max_fatures, split=' ')\n",
    "tokenizer.fit_on_texts(data['text'].values)\n",
    "X = tokenizer.texts_to_sequences(data['text'].values)\n",
    "X = pad_sequences(X)"
   ]
  },
  {
   "cell_type": "markdown",
   "metadata": {
    "_cell_guid": "9753421e-1303-77d5-b17f-5f25fa08c452"
   },
   "source": [
    "Next, I compose the LSTM Network. Note that **embed_dim**, **lstm_out**, **batch_size**, **droupout_x** variables are hyperparameters, their values are somehow intuitive, can be and must be played with in order to achieve good results. Please also note that I am using softmax as activation function. The reason is that our Network is using categorical crossentropy, and softmax is just the right activation method for that."
   ]
  },
  {
   "cell_type": "code",
   "execution_count": 15,
   "metadata": {
    "_cell_guid": "1ba3cf60-a83c-9c21-05e0-b14303027e93"
   },
   "outputs": [
    {
     "name": "stderr",
     "output_type": "stream",
     "text": [
      "C:\\Users\\Phansa Chaonpoj\\Anaconda3\\lib\\site-packages\\ipykernel_launcher.py:5: UserWarning: The `dropout` argument is no longer support in `Embedding`. You can apply a `keras.layers.SpatialDropout1D` layer right after the `Embedding` layer to get the same behavior.\n",
      "  \"\"\"\n",
      "C:\\Users\\Phansa Chaonpoj\\Anaconda3\\lib\\site-packages\\ipykernel_launcher.py:6: UserWarning: Update your `LSTM` call to the Keras 2 API: `LSTM(196, dropout=0.2, recurrent_dropout=0.2)`\n",
      "  \n"
     ]
    },
    {
     "name": "stdout",
     "output_type": "stream",
     "text": [
      "_________________________________________________________________\n",
      "Layer (type)                 Output Shape              Param #   \n",
      "=================================================================\n",
      "embedding_1 (Embedding)      (None, 28, 128)           256000    \n",
      "_________________________________________________________________\n",
      "lstm_1 (LSTM)                (None, 196)               254800    \n",
      "_________________________________________________________________\n",
      "dense_1 (Dense)              (None, 2)                 394       \n",
      "=================================================================\n",
      "Total params: 511,194\n",
      "Trainable params: 511,194\n",
      "Non-trainable params: 0\n",
      "_________________________________________________________________\n",
      "None\n"
     ]
    }
   ],
   "source": [
    "embed_dim = 128\n",
    "lstm_out = 196\n",
    "\n",
    "model = Sequential()\n",
    "model.add(Embedding(max_fatures, embed_dim,input_length = X.shape[1], dropout=0.2))\n",
    "model.add(LSTM(lstm_out, dropout_U=0.2, dropout_W=0.2))\n",
    "model.add(Dense(2,activation='softmax'))\n",
    "model.compile(loss = 'categorical_crossentropy', optimizer='adam',metrics = ['accuracy'])\n",
    "print(model.summary())"
   ]
  },
  {
   "cell_type": "markdown",
   "metadata": {
    "_cell_guid": "15f4ee61-47e4-88c4-4b81-98a85237333f"
   },
   "source": [
    "Hereby I declare the train and test dataset."
   ]
  },
  {
   "cell_type": "code",
   "execution_count": 20,
   "metadata": {
    "_cell_guid": "b35748b8-2353-3db2-e571-5fd22bb93eb0"
   },
   "outputs": [
    {
     "name": "stdout",
     "output_type": "stream",
     "text": [
      "(7188, 28) (7188, 2)\n",
      "(3541, 28) (3541, 2)\n"
     ]
    }
   ],
   "source": [
    "Y = pd.get_dummies(data['sentiment']).values\n",
    "X_train, X_test, Y_train, Y_test = train_test_split(X,Y, test_size = 0.33, random_state = 42)\n",
    "print(X_train.shape,Y_train.shape)\n",
    "print(X_test.shape,Y_test.shape)"
   ]
  },
  {
   "cell_type": "markdown",
   "metadata": {
    "_cell_guid": "2a775979-a930-e627-2963-18557d7bf6e6"
   },
   "source": [
    "Here we train the Network. We should run much more than 7 epoch, but I would have to wait forever for kaggle, so it is 7 for now."
   ]
  },
  {
   "cell_type": "code",
   "execution_count": 23,
   "metadata": {
    "_cell_guid": "d5e499ac-2eba-6ff7-8d9a-ff65eb04099b"
   },
   "outputs": [
    {
     "name": "stderr",
     "output_type": "stream",
     "text": [
      "C:\\Users\\Phansa Chaonpoj\\Anaconda3\\lib\\site-packages\\keras\\models.py:981: UserWarning: The `nb_epoch` argument in `fit` has been renamed `epochs`.\n",
      "  warnings.warn('The `nb_epoch` argument in `fit` '\n"
     ]
    },
    {
     "name": "stdout",
     "output_type": "stream",
     "text": [
      "Epoch 1/100\n",
      " - 12s - loss: 0.1410 - acc: 0.9437\n",
      "Epoch 2/100\n",
      " - 13s - loss: 0.1229 - acc: 0.9503\n",
      "Epoch 3/100\n",
      " - 13s - loss: 0.1114 - acc: 0.9563\n",
      "Epoch 4/100\n",
      " - 13s - loss: 0.1068 - acc: 0.9583\n",
      "Epoch 5/100\n",
      " - 13s - loss: 0.1029 - acc: 0.9569\n",
      "Epoch 6/100\n",
      " - 13s - loss: 0.0927 - acc: 0.9623\n",
      "Epoch 7/100\n",
      " - 13s - loss: 0.0872 - acc: 0.9633\n",
      "Epoch 8/100\n",
      " - 13s - loss: 0.0804 - acc: 0.9668\n",
      "Epoch 9/100\n",
      " - 13s - loss: 0.0749 - acc: 0.9679\n",
      "Epoch 10/100\n",
      " - 13s - loss: 0.0763 - acc: 0.9672\n",
      "Epoch 11/100\n",
      " - 13s - loss: 0.0784 - acc: 0.9687\n",
      "Epoch 12/100\n",
      " - 13s - loss: 0.0740 - acc: 0.9687\n",
      "Epoch 13/100\n",
      " - 13s - loss: 0.0739 - acc: 0.9693\n",
      "Epoch 14/100\n",
      " - 13s - loss: 0.0684 - acc: 0.9698\n",
      "Epoch 15/100\n",
      " - 12s - loss: 0.0793 - acc: 0.9674\n",
      "Epoch 16/100\n",
      " - 12s - loss: 0.0660 - acc: 0.9723\n",
      "Epoch 17/100\n",
      " - 13s - loss: 0.0647 - acc: 0.9727\n",
      "Epoch 18/100\n",
      " - 13s - loss: 0.0644 - acc: 0.9731\n",
      "Epoch 19/100\n",
      " - 12s - loss: 0.0634 - acc: 0.9720\n",
      "Epoch 20/100\n",
      " - 13s - loss: 0.0700 - acc: 0.9699\n",
      "Epoch 21/100\n",
      " - 12s - loss: 0.0675 - acc: 0.9706\n",
      "Epoch 22/100\n",
      " - 13s - loss: 0.0674 - acc: 0.9715\n",
      "Epoch 23/100\n",
      " - 13s - loss: 0.0631 - acc: 0.9720\n",
      "Epoch 24/100\n",
      " - 13s - loss: 0.0624 - acc: 0.9736\n",
      "Epoch 25/100\n",
      " - 12s - loss: 0.0659 - acc: 0.9726\n",
      "Epoch 26/100\n",
      " - 12s - loss: 0.0583 - acc: 0.9731\n",
      "Epoch 27/100\n",
      " - 12s - loss: 0.0575 - acc: 0.9750\n",
      "Epoch 28/100\n",
      " - 12s - loss: 0.0654 - acc: 0.9737\n",
      "Epoch 29/100\n",
      " - 12s - loss: 0.0599 - acc: 0.9727\n",
      "Epoch 30/100\n",
      " - 13s - loss: 0.0590 - acc: 0.9734\n",
      "Epoch 31/100\n",
      " - 13s - loss: 0.0660 - acc: 0.9719\n",
      "Epoch 32/100\n",
      " - 12s - loss: 0.0619 - acc: 0.9734\n",
      "Epoch 33/100\n",
      " - 12s - loss: 0.0613 - acc: 0.9743\n",
      "Epoch 34/100\n",
      " - 12s - loss: 0.0593 - acc: 0.9740\n",
      "Epoch 35/100\n",
      " - 12s - loss: 0.0560 - acc: 0.9754\n",
      "Epoch 36/100\n",
      " - 12s - loss: 0.0574 - acc: 0.9750\n",
      "Epoch 37/100\n",
      " - 12s - loss: 0.0580 - acc: 0.9729\n",
      "Epoch 38/100\n",
      " - 12s - loss: 0.0537 - acc: 0.9752\n",
      "Epoch 39/100\n",
      " - 12s - loss: 0.0571 - acc: 0.9750\n",
      "Epoch 40/100\n",
      " - 12s - loss: 0.0628 - acc: 0.9715\n",
      "Epoch 41/100\n",
      " - 12s - loss: 0.0590 - acc: 0.9737\n",
      "Epoch 42/100\n",
      " - 12s - loss: 0.0553 - acc: 0.9751\n",
      "Epoch 43/100\n",
      " - 12s - loss: 0.0556 - acc: 0.9750\n",
      "Epoch 44/100\n",
      " - 12s - loss: 0.0556 - acc: 0.9747\n",
      "Epoch 45/100\n",
      " - 12s - loss: 0.0547 - acc: 0.9750\n",
      "Epoch 46/100\n",
      " - 12s - loss: 0.0531 - acc: 0.9747\n",
      "Epoch 47/100\n",
      " - 12s - loss: 0.0531 - acc: 0.9748\n",
      "Epoch 48/100\n",
      " - 12s - loss: 0.0543 - acc: 0.9755\n",
      "Epoch 49/100\n",
      " - 12s - loss: 0.0535 - acc: 0.9752\n",
      "Epoch 50/100\n",
      " - 12s - loss: 0.0660 - acc: 0.9731\n",
      "Epoch 51/100\n",
      " - 12s - loss: 0.0548 - acc: 0.9745\n",
      "Epoch 52/100\n",
      " - 12s - loss: 0.0557 - acc: 0.9736\n",
      "Epoch 53/100\n",
      " - 12s - loss: 0.0525 - acc: 0.9755\n",
      "Epoch 54/100\n",
      " - 12s - loss: 0.0556 - acc: 0.9743\n",
      "Epoch 55/100\n",
      " - 12s - loss: 0.0542 - acc: 0.9741\n",
      "Epoch 56/100\n",
      " - 12s - loss: 0.0523 - acc: 0.9759\n",
      "Epoch 57/100\n",
      " - 12s - loss: 0.0521 - acc: 0.9765\n",
      "Epoch 58/100\n",
      " - 12s - loss: 0.0545 - acc: 0.9754\n",
      "Epoch 59/100\n",
      " - 12s - loss: 0.0556 - acc: 0.9747\n",
      "Epoch 60/100\n",
      " - 12s - loss: 0.0529 - acc: 0.9759\n",
      "Epoch 61/100\n",
      " - 12s - loss: 0.0525 - acc: 0.9755\n",
      "Epoch 62/100\n",
      " - 12s - loss: 0.0569 - acc: 0.9747\n",
      "Epoch 63/100\n",
      " - 12s - loss: 0.0552 - acc: 0.9745\n",
      "Epoch 64/100\n",
      " - 12s - loss: 0.0550 - acc: 0.9752\n",
      "Epoch 65/100\n",
      " - 12s - loss: 0.0535 - acc: 0.9761\n",
      "Epoch 66/100\n",
      " - 12s - loss: 0.0559 - acc: 0.9743\n",
      "Epoch 67/100\n",
      " - 12s - loss: 0.0532 - acc: 0.9750\n",
      "Epoch 68/100\n",
      " - 12s - loss: 0.0523 - acc: 0.9752\n",
      "Epoch 69/100\n",
      " - 12s - loss: 0.0522 - acc: 0.9757\n",
      "Epoch 70/100\n",
      " - 12s - loss: 0.0508 - acc: 0.9765\n",
      "Epoch 71/100\n",
      " - 12s - loss: 0.0521 - acc: 0.9755\n",
      "Epoch 72/100\n",
      " - 12s - loss: 0.0517 - acc: 0.9761\n",
      "Epoch 73/100\n",
      " - 12s - loss: 0.0511 - acc: 0.9759\n",
      "Epoch 74/100\n",
      " - 12s - loss: 0.0511 - acc: 0.9761\n",
      "Epoch 75/100\n",
      " - 12s - loss: 0.0554 - acc: 0.9757\n",
      "Epoch 76/100\n",
      " - 12s - loss: 0.0552 - acc: 0.9751\n",
      "Epoch 77/100\n",
      " - 12s - loss: 0.0564 - acc: 0.9744\n",
      "Epoch 78/100\n",
      " - 12s - loss: 0.0580 - acc: 0.9743\n",
      "Epoch 79/100\n",
      " - 12s - loss: 0.0533 - acc: 0.9745\n",
      "Epoch 80/100\n",
      " - 12s - loss: 0.0521 - acc: 0.9748\n",
      "Epoch 81/100\n",
      " - 12s - loss: 0.0506 - acc: 0.9763\n",
      "Epoch 82/100\n",
      " - 12s - loss: 0.0504 - acc: 0.9765\n",
      "Epoch 83/100\n",
      " - 12s - loss: 0.0502 - acc: 0.9762\n",
      "Epoch 84/100\n",
      " - 12s - loss: 0.0506 - acc: 0.9761\n",
      "Epoch 85/100\n",
      " - 12s - loss: 0.0500 - acc: 0.9761\n",
      "Epoch 86/100\n",
      " - 12s - loss: 0.0509 - acc: 0.9765\n",
      "Epoch 87/100\n",
      " - 12s - loss: 0.0509 - acc: 0.9757\n",
      "Epoch 88/100\n",
      " - 12s - loss: 0.0523 - acc: 0.9747\n",
      "Epoch 89/100\n",
      " - 12s - loss: 0.0515 - acc: 0.9748\n",
      "Epoch 90/100\n",
      " - 12s - loss: 0.0503 - acc: 0.9751\n",
      "Epoch 91/100\n",
      " - 12s - loss: 0.0508 - acc: 0.9761\n",
      "Epoch 92/100\n",
      " - 12s - loss: 0.0569 - acc: 0.9744\n",
      "Epoch 93/100\n",
      " - 12s - loss: 0.0558 - acc: 0.9741\n",
      "Epoch 94/100\n",
      " - 12s - loss: 0.0532 - acc: 0.9745\n",
      "Epoch 95/100\n",
      " - 12s - loss: 0.0510 - acc: 0.9757\n",
      "Epoch 96/100\n",
      " - 12s - loss: 0.0521 - acc: 0.9755\n",
      "Epoch 97/100\n",
      " - 12s - loss: 0.0512 - acc: 0.9757\n",
      "Epoch 98/100\n",
      " - 12s - loss: 0.0519 - acc: 0.9768\n",
      "Epoch 99/100\n",
      " - 12s - loss: 0.0517 - acc: 0.9758\n",
      "Epoch 100/100\n",
      " - 12s - loss: 0.0521 - acc: 0.9759\n"
     ]
    },
    {
     "data": {
      "text/plain": [
       "<keras.callbacks.History at 0x25563936240>"
      ]
     },
     "execution_count": 23,
     "metadata": {},
     "output_type": "execute_result"
    }
   ],
   "source": [
    "batch_size = 32\n",
    "model.fit(X_train, Y_train, nb_epoch = 100, batch_size=batch_size, verbose = 2)"
   ]
  },
  {
   "cell_type": "markdown",
   "metadata": {
    "_cell_guid": "4ebd7bc1-53c0-0e31-a0b0-b6d0a3017434"
   },
   "source": [
    "Extracting a validation set, and measuring score and accuracy."
   ]
  },
  {
   "cell_type": "code",
   "execution_count": 24,
   "metadata": {
    "_cell_guid": "a970f412-722f-6d6d-72c8-325d0901ccef"
   },
   "outputs": [
    {
     "name": "stdout",
     "output_type": "stream",
     "text": [
      "score: 1.57\n",
      "acc: 0.79\n"
     ]
    }
   ],
   "source": [
    "validation_size = 1500\n",
    "\n",
    "X_validate = X_test[-validation_size:]\n",
    "Y_validate = Y_test[-validation_size:]\n",
    "X_test = X_test[:-validation_size]\n",
    "Y_test = Y_test[:-validation_size]\n",
    "score,acc = model.evaluate(X_test, Y_test, verbose = 2, batch_size = batch_size)\n",
    "print(\"score: %.2f\" % (score))\n",
    "print(\"acc: %.2f\" % (acc))"
   ]
  },
  {
   "cell_type": "markdown",
   "metadata": {
    "_cell_guid": "018ebf39-9414-27d0-232c-a34de051feaf"
   },
   "source": [
    "Finally measuring the number of correct guesses.  It is clear that finding negative tweets goes very well for the Network but deciding whether is positive is not really. My educated guess here is that the positive training set is dramatically smaller than the negative, hence the \"bad\" results for positive tweets."
   ]
  },
  {
   "cell_type": "code",
   "execution_count": 26,
   "metadata": {
    "_cell_guid": "1add73e9-c6fb-7e4c-8715-ea92f519d2a6"
   },
   "outputs": [
    {
     "name": "stdout",
     "output_type": "stream",
     "text": [
      "pos_acc 50.68493150684932 %\n",
      "neg_acc 89.98344370860927 %\n"
     ]
    }
   ],
   "source": [
    "pos_cnt, neg_cnt, pos_correct, neg_correct = 0, 0, 0, 0\n",
    "for x in range(len(X_validate)):\n",
    "    \n",
    "    result = model.predict(X_validate[x].reshape(1,X_test.shape[1]),batch_size=1,verbose = 2)[0]\n",
    "   \n",
    "    if np.argmax(result) == np.argmax(Y_validate[x]):\n",
    "        if np.argmax(Y_validate[x]) == 0:\n",
    "            neg_correct += 1\n",
    "        else:\n",
    "            pos_correct += 1\n",
    "       \n",
    "    if np.argmax(Y_validate[x]) == 0:\n",
    "        neg_cnt += 1\n",
    "    else:\n",
    "        pos_cnt += 1\n",
    "\n",
    "\n",
    "\n",
    "print(\"pos_acc\", pos_correct/pos_cnt*100, \"%\")\n",
    "print(\"neg_acc\", neg_correct/neg_cnt*100, \"%\")"
   ]
  },
  {
   "cell_type": "code",
   "execution_count": null,
   "metadata": {
    "_cell_guid": "24c64f46-edd1-8d0b-7c7c-ef50fd26b2fd"
   },
   "outputs": [],
   "source": []
  },
  {
   "cell_type": "code",
   "execution_count": null,
   "metadata": {},
   "outputs": [],
   "source": []
  }
 ],
 "metadata": {
  "_change_revision": 185,
  "_is_fork": false,
  "kernelspec": {
   "display_name": "Python 3",
   "language": "python",
   "name": "python3"
  },
  "language_info": {
   "codemirror_mode": {
    "name": "ipython",
    "version": 3
   },
   "file_extension": ".py",
   "mimetype": "text/x-python",
   "name": "python",
   "nbconvert_exporter": "python",
   "pygments_lexer": "ipython3",
   "version": "3.6.5"
  }
 },
 "nbformat": 4,
 "nbformat_minor": 1
}
